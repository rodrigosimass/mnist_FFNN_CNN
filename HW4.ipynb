{
  "nbformat": 4,
  "nbformat_minor": 0,
  "metadata": {
    "colab": {
      "name": "HW4.ipynb",
      "provenance": [],
      "collapsed_sections": [],
      "toc_visible": true,
      "include_colab_link": true
    },
    "kernelspec": {
      "name": "python3",
      "display_name": "Python 3"
    },
    "accelerator": "GPU"
  },
  "cells": [
    {
      "cell_type": "markdown",
      "metadata": {
        "id": "view-in-github",
        "colab_type": "text"
      },
      "source": [
        "<a href=\"https://colab.research.google.com/github/rodrigosimass/mnist_FFNN_CNN/blob/master/HW4.ipynb\" target=\"_parent\"><img src=\"https://colab.research.google.com/assets/colab-badge.svg\" alt=\"Open In Colab\"/></a>"
      ]
    },
    {
      "cell_type": "markdown",
      "metadata": {
        "id": "62pkex9pOy3O",
        "colab_type": "text"
      },
      "source": [
        "#Set up\n",
        "\n"
      ]
    },
    {
      "cell_type": "code",
      "metadata": {
        "id": "t9i6IstnU5QN",
        "colab_type": "code",
        "colab": {}
      },
      "source": [
        "import tensorflow as tf\n",
        "import tensorflow_datasets as tfds\n",
        "from sklearn.model_selection import KFold\n",
        "import numpy as np\n",
        "import sklearn.decomposition\n",
        "import matplotlib.pyplot as plt"
      ],
      "execution_count": 0,
      "outputs": []
    },
    {
      "cell_type": "code",
      "metadata": {
        "id": "e3wQDfVuVWMQ",
        "colab_type": "code",
        "colab": {}
      },
      "source": [
        "mnist_data, mnist_info = tfds.load('mnist', with_info=True)\n",
        "mnist_train_x = np.asarray([instance['image']/255 for instance in tfds.as_numpy(mnist_data['train'])])\n",
        "mnist_train_y = np.asarray([instance['label'] for instance in tfds.as_numpy(mnist_data['train'])])\n",
        "mnist_test_x = np.asarray([instance['image']/255 for instance in tfds.as_numpy(mnist_data['test'])])\n",
        "mnist_test_y = np.asarray([instance['label'] for instance in tfds.as_numpy(mnist_data['test'])])"
      ],
      "execution_count": 0,
      "outputs": []
    },
    {
      "cell_type": "code",
      "metadata": {
        "id": "4MtmlFVUL4nE",
        "colab_type": "code",
        "colab": {}
      },
      "source": [
        "def isBest(result, results):\n",
        "  if(len(results)==0):\n",
        "    return True\n",
        "  if(result>max(results)):\n",
        "    return True\n",
        "  return False"
      ],
      "execution_count": 0,
      "outputs": []
    },
    {
      "cell_type": "code",
      "metadata": {
        "id": "32aWU8Bvb83G",
        "colab_type": "code",
        "colab": {}
      },
      "source": [
        "def KFoldcrossValidation(K,model,train_x,train_y, _epochs, _batch_size, _verbose):\n",
        "    kf = KFold(n_splits=K)\n",
        "    results = []\n",
        "    i = 1\n",
        "\n",
        "    print(\"CROSS VALIDATION STARTED\")\n",
        "    for train_idx, val_idx in kf.split(train_x, train_y):\n",
        "        #SPLIT THE DATA\n",
        "        print(\"Fold \",i,\"/\",K)\n",
        "        i = i+1\n",
        "        train_x = mnist_train_x[train_idx]\n",
        "        train_y = mnist_train_y[train_idx]\n",
        "        val_x = mnist_train_x[val_idx]\n",
        "        val_y = mnist_train_y[val_idx]\n",
        "        val_set = (val_x, val_y)\n",
        "\n",
        "        earlystop = tf.keras.callbacks.EarlyStopping(monitor='val_accuracy', patience=10, verbose=1)\n",
        "        checkpoint = tf.keras.callbacks.ModelCheckpoint('mnist_baseline_best.h5', monitor='val_accuracy', verbose=1, save_best_only=True)\n",
        "\n",
        "        model_hist = model.fit(train_x, train_y, validation_data= val_set, callbacks=[earlystop,checkpoint], epochs=_epochs, batch_size=_batch_size, verbose=_verbose)\n",
        "\n",
        "        model.load_weights('mnist_baseline_best.h5')\n",
        "        if(isBest(checkpoint.best,results)):\n",
        "            model.save('best_model.h5')\n",
        "            best_train = model_hist\n",
        "        results.append(checkpoint.best)\n",
        "    \n",
        "    return results, best_train"
      ],
      "execution_count": 0,
      "outputs": []
    },
    {
      "cell_type": "markdown",
      "metadata": {
        "id": "N_jM05eLnLfW",
        "colab_type": "text"
      },
      "source": [
        "# Baseline\n",
        "No hidden "
      ]
    },
    {
      "cell_type": "code",
      "metadata": {
        "id": "HVubGmS6ju1f",
        "colab_type": "code",
        "colab": {
          "base_uri": "https://localhost:8080/",
          "height": 230
        },
        "outputId": "918852bb-05ef-4086-f50e-207af59ad4fc"
      },
      "source": [
        "mnist_baseline_model = tf.keras.Sequential(name='mnist_baseline')\n",
        "mnist_baseline_model.add(tf.keras.layers.Input(mnist_info.features['image'].shape))\n",
        "mnist_baseline_model.add(tf.keras.layers.Flatten(name='flatten'))\n",
        "mnist_baseline_model.add(tf.keras.layers.Dense(mnist_info.features['label'].num_classes, activation='softmax', name='output'))\n",
        "mnist_baseline_model.compile(loss='sparse_categorical_crossentropy', optimizer='sgd', metrics=['accuracy'])\n",
        "mnist_baseline_model.summary()"
      ],
      "execution_count": 13,
      "outputs": [
        {
          "output_type": "stream",
          "text": [
            "Model: \"mnist_baseline\"\n",
            "_________________________________________________________________\n",
            "Layer (type)                 Output Shape              Param #   \n",
            "=================================================================\n",
            "flatten (Flatten)            (None, 784)               0         \n",
            "_________________________________________________________________\n",
            "output (Dense)               (None, 10)                7850      \n",
            "=================================================================\n",
            "Total params: 7,850\n",
            "Trainable params: 7,850\n",
            "Non-trainable params: 0\n",
            "_________________________________________________________________\n"
          ],
          "name": "stdout"
        }
      ]
    },
    {
      "cell_type": "code",
      "metadata": {
        "id": "_Fs-nmfRonGU",
        "colab_type": "code",
        "colab": {
          "base_uri": "https://localhost:8080/",
          "height": 318
        },
        "outputId": "2f1b99bf-3836-4bf0-89fa-aff93cf4d3a3"
      },
      "source": [
        "results, train = KFoldcrossValidation(5,mnist_baseline_model,mnist_train_x,mnist_train_y, 1, 256, 0)\n",
        "\n",
        "print(results)"
      ],
      "execution_count": 14,
      "outputs": [
        {
          "output_type": "stream",
          "text": [
            "CROSS VALIDATION STARTED\n",
            "Fold  1 / 5\n",
            "\n",
            "Epoch 00001: val_accuracy improved from -inf to 0.76092, saving model to mnist_baseline_best.h5\n",
            "Fold  2 / 5\n",
            "\n",
            "Epoch 00001: val_accuracy improved from -inf to 0.82067, saving model to mnist_baseline_best.h5\n",
            "Fold  3 / 5\n",
            "\n",
            "Epoch 00001: val_accuracy improved from -inf to 0.83558, saving model to mnist_baseline_best.h5\n",
            "Fold  4 / 5\n",
            "\n",
            "Epoch 00001: val_accuracy improved from -inf to 0.84800, saving model to mnist_baseline_best.h5\n",
            "Fold  5 / 5\n",
            "\n",
            "Epoch 00001: val_accuracy improved from -inf to 0.85567, saving model to mnist_baseline_best.h5\n",
            "[0.7609166502952576, 0.8206666707992554, 0.8355833292007446, 0.8479999899864197, 0.8556666374206543]\n"
          ],
          "name": "stdout"
        }
      ]
    },
    {
      "cell_type": "code",
      "metadata": {
        "id": "AbZDKedepXS-",
        "colab_type": "code",
        "colab": {
          "base_uri": "https://localhost:8080/",
          "height": 444
        },
        "outputId": "0c6a184b-e077-41a9-d844-49749a78ec55"
      },
      "source": [
        "fig, (loss_ax, acc_ax) = plt.subplots(1, 2, figsize=(20,7))\n",
        "\n",
        "loss_ax.set_title('Loss')\n",
        "loss_ax.plot(train.history['loss'], '-r', label='Train')\n",
        "loss_ax.plot(train.history['val_loss'], '-g', label='Validation')\n",
        "\n",
        "acc_ax.set_title('Accuracy')\n",
        "acc_ax.plot(train.history['accuracy'], '-r', label='Train')\n",
        "acc_ax.plot(train.history['val_accuracy'], '-g', label='Validation')\n",
        "\n",
        "plt.legend(loc=4)\n",
        "plt.show()"
      ],
      "execution_count": 15,
      "outputs": [
        {
          "output_type": "display_data",
          "data": {
            "image/png": "[encoded data removed]",
            "text/plain": [
              "<Figure size 1440x504 with 2 Axes>"
            ]
          },
          "metadata": {
            "tags": [],
            "needs_background": "light"
          }
        }
      ]
    },
    {
      "cell_type": "markdown",
      "metadata": {
        "id": "5PQl3fIHN01i",
        "colab_type": "text"
      },
      "source": [
        "test the baseline"
      ]
    },
    {
      "cell_type": "code",
      "metadata": {
        "id": "JYJSzhKX3PYE",
        "colab_type": "code",
        "colab": {
          "base_uri": "https://localhost:8080/",
          "height": 52
        },
        "outputId": "81a4ba2f-5dbb-4dae-dfeb-3c1cfd09ccd6"
      },
      "source": [
        "mnist_baseline_model.load_weights('mnist_baseline_best.h5')\n",
        "loss, acc = mnist_baseline_model.evaluate(mnist_test_x, mnist_test_y)\n",
        "print('Accuracy: {}'.format(acc))"
      ],
      "execution_count": 9,
      "outputs": [
        {
          "output_type": "stream",
          "text": [
            "313/313 [==============================] - 1s 2ms/step - loss: 0.2835 - accuracy: 0.9210\n",
            "Accuracy: 0.9210000038146973\n"
          ],
          "name": "stdout"
        }
      ]
    },
    {
      "cell_type": "markdown",
      "metadata": {
        "id": "ruKJGkKZtjmS",
        "colab_type": "text"
      },
      "source": [
        "#Feed-Forward Neural Networks"
      ]
    },
    {
      "cell_type": "markdown",
      "metadata": {
        "id": "m66f-8VHLscW",
        "colab_type": "text"
      },
      "source": [
        "test several models with different number of layers and neurons\n",
        "\n",
        "cross validation is used and the best fold is selected in order to assess performance\n",
        "\n",
        "---\n",
        "\n"
      ]
    },
    {
      "cell_type": "code",
      "metadata": {
        "id": "A1U08t0Gxx4_",
        "colab_type": "code",
        "colab": {}
      },
      "source": [
        "num_hidden_layers = [1,2]\n",
        "num_hidden_neurons = [50,100]\n",
        "num_folds = 5; #cross validation\n",
        "eps = 10000 #epochs\n",
        "\n",
        "for layers in num_hidden_layers:\n",
        "    print(\"\\n\\nhidden_layers=\",layers)\n",
        "    for num_neur in num_hidden_neurons:\n",
        "        kf = KFold(n_splits=num_folds)\n",
        "        results = []\n",
        "        i = 1\n",
        "        print(\"    num_neurons:\",num_neur)\n",
        "        for train_idx, val_idx in kf.split(mnist_train_x, mnist_train_y):\n",
        "            #SPLIT THE DATA\n",
        "            train_x = mnist_train_x[train_idx]\n",
        "            train_y = mnist_train_y[train_idx]\n",
        "            val_x = mnist_train_x[val_idx]\n",
        "            val_y = mnist_train_y[val_idx]\n",
        "            val_set = (val_x, val_y)\n",
        "\n",
        "            #BUILD THE NN\n",
        "            mlp = tf.keras.Sequential(name='MLP-1HU')\n",
        "            mlp.add(tf.keras.layers.Input(mnist_info.features['image'].shape))\n",
        "            mlp.add(tf.keras.layers.Flatten(name='flatten'))\n",
        "            for i in range (layers):\n",
        "                nm = \"HU\" + str(i)\n",
        "                mlp.add(tf.keras.layers.Dense(num_neur, activation='tanh', name=nm))\n",
        "            mlp.add(tf.keras.layers.Dense(mnist_info.features['label'].num_classes, activation='softmax', name='output'))\n",
        "\n",
        "            mlp.compile(loss='sparse_categorical_crossentropy', optimizer='sgd', metrics=['accuracy'])\n",
        "\n",
        "            #DEFINE CALL BACKS\n",
        "            earlystop = tf.keras.callbacks.EarlyStopping(monitor='val_accuracy', patience=10, verbose=0)\n",
        "            checkpoint_train = tf.keras.callbacks.ModelCheckpoint('MLP-1HU.h5', monitor='accuracy', verbose=0, save_best_only=True)\n",
        "            checkpoint_valid = tf.keras.callbacks.ModelCheckpoint('multi_layer_2.h5', monitor='val_accuracy', verbose=0, save_best_only=True)\n",
        "\n",
        "            #TRAIN\n",
        "            mlp_train = mlp.fit(mnist_train_x, mnist_train_y, validation_data= val_set, callbacks=[earlystop,checkpoint_train,checkpoint_valid], epochs=eps, batch_size=256, verbose=0)\n",
        "\n",
        "            #ASSESS PERFORMANCE\n",
        "            mlp.load_weights('multi_layer_2.h5')\n",
        "            if(isBest(checkpoint_valid.best,results)):\n",
        "                best_val = checkpoint_valid.best\n",
        "                best_train = checkpoint_train.best\n",
        "            results.append(checkpoint_valid.best);\n",
        "            \n",
        "        print(results)\n",
        "        print(\"        val:\",best_val,\" trn:\",best_train)"
      ],
      "execution_count": 0,
      "outputs": []
    },
    {
      "cell_type": "markdown",
      "metadata": {
        "id": "2zQWNfTsMXt2",
        "colab_type": "text"
      },
      "source": [
        "train one model"
      ]
    },
    {
      "cell_type": "code",
      "metadata": {
        "id": "HgjTRRpp9JDu",
        "colab_type": "code",
        "colab": {}
      },
      "source": [
        "num_hidden_layers = 2\n",
        "num_neur = 100\n",
        "num_folds = 5; #cross validation\n",
        "eps = 10000 #epochs\n",
        "\n",
        "kf = KFold(n_splits=num_folds)\n",
        "results = []\n",
        "i = 1\n",
        "for train_idx, val_idx in kf.split(mnist_train_x, mnist_train_y):\n",
        "    print(\"fold\",i,\"/\",num_folds)\n",
        "    i+=1\n",
        "    #SPLIT THE DATA\n",
        "    train_x = mnist_train_x[train_idx]\n",
        "    train_y = mnist_train_y[train_idx]\n",
        "    val_x = mnist_train_x[val_idx]\n",
        "    val_y = mnist_train_y[val_idx]\n",
        "    val_set = (val_x, val_y)\n",
        "\n",
        "\n",
        "    #BUILD THE NN\n",
        "    mlp = tf.keras.Sequential(name='MLP-1HU')\n",
        "    mlp.add(tf.keras.layers.Input(mnist_info.features['image'].shape))\n",
        "    mlp.add(tf.keras.layers.Flatten(name='flatten'))\n",
        "    for j in range (num_hidden_layers):\n",
        "        nm = \"HU\" + str(j)\n",
        "        mlp.add(tf.keras.layers.Dense(num_neur, activation='tanh', name=nm))\n",
        "    mlp.add(tf.keras.layers.Dense(mnist_info.features['label'].num_classes, activation='softmax', name='output'))\n",
        "\n",
        "    mlp.compile(loss='sparse_categorical_crossentropy', optimizer='sgd', metrics=['accuracy'])\n",
        "\n",
        "    #DEFINE CALL BACKS\n",
        "    earlystop = tf.keras.callbacks.EarlyStopping(monitor='val_accuracy', patience=10, verbose=0)\n",
        "    checkpoint_train = tf.keras.callbacks.ModelCheckpoint('MLP-1HU.h5', monitor='accuracy', verbose=0, save_best_only=True)\n",
        "    checkpoint_valid = tf.keras.callbacks.ModelCheckpoint('multi_layer_2.h5', monitor='val_accuracy', verbose=0, save_best_only=True)\n",
        "    #TRAIN\n",
        "    mlp_train = mlp.fit(mnist_train_x, mnist_train_y, validation_data= val_set, callbacks=[earlystop,checkpoint_train,checkpoint_valid], epochs=eps, batch_size=256, verbose=0)\n",
        "\n",
        "    #ASSESS PERFORMANCE\n",
        "    mlp.load_weights('multi_layer_2.h5')\n",
        "    if(isBest(checkpoint_valid.best,results)): #TODO verificar se esta a usar a melhor validation\n",
        "        #SAVE MODEL OF BEST FOLD\n",
        "        mlp.save_weights('best_MLP.h5')\n",
        "        best_model = mlp_train\n",
        "        best_val = checkpoint_valid.best\n",
        "        best_train = checkpoint_train.best\n",
        "    results.append(checkpoint_valid.best);"
      ],
      "execution_count": 0,
      "outputs": []
    },
    {
      "cell_type": "markdown",
      "metadata": {
        "id": "w2v3Z8bHSHyK",
        "colab_type": "text"
      },
      "source": [
        "plot the train:"
      ]
    },
    {
      "cell_type": "code",
      "metadata": {
        "id": "3FieZ2bS6mro",
        "colab_type": "code",
        "outputId": "6a93d0f6-13f3-4d6e-c2f9-7ee223807124",
        "colab": {
          "base_uri": "https://localhost:8080/",
          "height": 444
        }
      },
      "source": [
        "fig, (loss_ax, acc_ax) = plt.subplots(1, 2, figsize=(20,7))\n",
        "\n",
        "loss_ax.set_title('Loss')\n",
        "loss_ax.plot(best_model.history['loss'], '-r', label='Train')\n",
        "loss_ax.plot(best_model.history['val_loss'], '-g', label='Validation')\n",
        "acc_ax.set_title('Accuracy')\n",
        "acc_ax.plot(best_model.history['accuracy'], '-r', label='Train')\n",
        "acc_ax.plot(best_model.history['val_accuracy'], '-g', label='Validation')\n",
        "plt.legend(loc=4)\n",
        "plt.show()"
      ],
      "execution_count": 0,
      "outputs": [
        {
          "output_type": "display_data",
          "data": {
            "image/png": "[encoded data removed]",
            "text/plain": [
              "<Figure size 1440x504 with 2 Axes>"
            ]
          },
          "metadata": {
            "tags": [],
            "needs_background": "light"
          }
        }
      ]
    },
    {
      "cell_type": "markdown",
      "metadata": {
        "id": "-TcdhIlESC-i",
        "colab_type": "text"
      },
      "source": [
        "and finally... use the test set"
      ]
    },
    {
      "cell_type": "code",
      "metadata": {
        "id": "t8pE1P1L6j89",
        "colab_type": "code",
        "outputId": "b1254e52-d89a-43c2-ef60-e7b0b7dd1248",
        "colab": {
          "base_uri": "https://localhost:8080/",
          "height": 212
        }
      },
      "source": [
        "#stats of all the folds\n",
        "print(\"All folds:\")\n",
        "print(results)\n",
        "#satts of best fold\n",
        "print(\"Best fold:\")\n",
        "print(\"valid acc:\",best_val)\n",
        "print(\"train acc:\",best_train)\n",
        "#and finally we test\n",
        "mlp.load_weights('best_MLP.h5')\n",
        "loss, acc = mlp.evaluate(mnist_test_x, mnist_test_y)\n",
        "print('\\n---------------------------------------\\n| TEST ACCURACY =  {}  |\\n---------------------------------------\\n'.format(acc))"
      ],
      "execution_count": 0,
      "outputs": [
        {
          "output_type": "stream",
          "text": [
            "All folds:\n",
            "[0.9929999709129333, 0.9897500276565552, 0.996999979019165, 0.9950000047683716, 0.9981666803359985]\n",
            "Best fold:\n",
            "valid acc: 0.9981666803359985\n",
            "train acc: 0.9980666637420654\n",
            "313/313 [==============================] - 1s 2ms/step - loss: 0.0727 - accuracy: 0.9778\n",
            "\n",
            "---------------------------------------\n",
            "| TEST ACCURACY =  0.9778000116348267  |\n",
            "---------------------------------------\n",
            "\n"
          ],
          "name": "stdout"
        }
      ]
    },
    {
      "cell_type": "markdown",
      "metadata": {
        "id": "3qCmljaEXETt",
        "colab_type": "text"
      },
      "source": [
        "# CNN"
      ]
    },
    {
      "cell_type": "code",
      "metadata": {
        "id": "lBj7FyNJPB7l",
        "colab_type": "code",
        "outputId": "fb668b9d-2078-4983-8f61-e41c65991725",
        "colab": {
          "base_uri": "https://localhost:8080/",
          "height": 1000
        }
      },
      "source": [
        "CNN = tf.keras.Sequential(name='mnist_cnn')\n",
        "CNN.add(tf.keras.layers.Input(mnist_info.features['image'].shape))\n",
        "CNN.add(tf.keras.layers.Conv2D(filters=64, kernel_size=3, activation='relu', padding='same', name='convolution1'))\n",
        "CNN.add(tf.keras.layers.Conv2D(filters=32, kernel_size=3, activation='relu', padding='same', name='convolution2'))\n",
        "CNN.add(tf.keras.layers.MaxPool2D(pool_size=2, name='pooling'))\n",
        "CNN.add(tf.keras.layers.Dropout(0.5, name='dropout'))\n",
        "CNN.add(tf.keras.layers.Flatten(name='flatten'))\n",
        "CNN.add(tf.keras.layers.Dense(mnist_info.features['label'].num_classes, activation='softmax', name='output'))\n",
        "\n",
        "CNN.compile(loss='sparse_categorical_crossentropy', optimizer='sgd', metrics=['accuracy'])\n",
        "\n",
        "conv_earlystop = tf.keras.callbacks.EarlyStopping(monitor='val_accuracy', patience=10, verbose=0)\n",
        "conv_checkpoint = tf.keras.callbacks.ModelCheckpoint('mnist_conv_best.h5', monitor='val_accuracy', verbose=0, save_best_only=True)\n",
        "\n",
        "mnist_CNN_train = CNN.fit(mnist_train_x, mnist_train_y, validation_split=0.2,callbacks=[conv_earlystop,conv_checkpoint], epochs=10000, batch_size=256)\n"
      ],
      "execution_count": 18,
      "outputs": [
        {
          "output_type": "stream",
          "text": [
            "Epoch 1/10000\n",
            "188/188 [==============================] - 3s 16ms/step - loss: 1.5382 - accuracy: 0.5306 - val_loss: 0.5239 - val_accuracy: 0.8576\n",
            "Epoch 2/10000\n",
            "188/188 [==============================] - 3s 14ms/step - loss: 0.5444 - accuracy: 0.8301 - val_loss: 0.4014 - val_accuracy: 0.8848\n",
            "Epoch 3/10000\n",
            "188/188 [==============================] - 3s 15ms/step - loss: 0.4649 - accuracy: 0.8577 - val_loss: 0.3660 - val_accuracy: 0.8933\n",
            "Epoch 4/10000\n",
            "188/188 [==============================] - 3s 14ms/step - loss: 0.4288 - accuracy: 0.8694 - val_loss: 0.3451 - val_accuracy: 0.8992\n",
            "Epoch 5/10000\n",
            "188/188 [==============================] - 3s 14ms/step - loss: 0.4098 - accuracy: 0.8765 - val_loss: 0.3416 - val_accuracy: 0.9030\n",
            "Epoch 6/10000\n",
            "188/188 [==============================] - 3s 14ms/step - loss: 0.3948 - accuracy: 0.8817 - val_loss: 0.3297 - val_accuracy: 0.9038\n",
            "Epoch 7/10000\n",
            "188/188 [==============================] - 3s 15ms/step - loss: 0.3798 - accuracy: 0.8862 - val_loss: 0.3218 - val_accuracy: 0.9107\n",
            "Epoch 8/10000\n",
            "188/188 [==============================] - 3s 14ms/step - loss: 0.3675 - accuracy: 0.8913 - val_loss: 0.3185 - val_accuracy: 0.9116\n",
            "Epoch 9/10000\n",
            "188/188 [==============================] - 3s 15ms/step - loss: 0.3567 - accuracy: 0.8938 - val_loss: 0.2997 - val_accuracy: 0.9172\n",
            "Epoch 10/10000\n",
            "188/188 [==============================] - 3s 15ms/step - loss: 0.3438 - accuracy: 0.8982 - val_loss: 0.2906 - val_accuracy: 0.9189\n",
            "Epoch 11/10000\n",
            "188/188 [==============================] - 3s 14ms/step - loss: 0.3286 - accuracy: 0.9030 - val_loss: 0.2821 - val_accuracy: 0.9213\n",
            "Epoch 12/10000\n",
            "188/188 [==============================] - 3s 14ms/step - loss: 0.3183 - accuracy: 0.9057 - val_loss: 0.2717 - val_accuracy: 0.9270\n",
            "Epoch 13/10000\n",
            "188/188 [==============================] - 3s 14ms/step - loss: 0.3052 - accuracy: 0.9107 - val_loss: 0.2633 - val_accuracy: 0.9279\n",
            "Epoch 14/10000\n",
            "188/188 [==============================] - 3s 15ms/step - loss: 0.2905 - accuracy: 0.9151 - val_loss: 0.2495 - val_accuracy: 0.9317\n",
            "Epoch 15/10000\n",
            "188/188 [==============================] - 3s 14ms/step - loss: 0.2799 - accuracy: 0.9185 - val_loss: 0.2415 - val_accuracy: 0.9342\n",
            "Epoch 16/10000\n",
            "188/188 [==============================] - 3s 14ms/step - loss: 0.2651 - accuracy: 0.9230 - val_loss: 0.2286 - val_accuracy: 0.9377\n",
            "Epoch 17/10000\n",
            "188/188 [==============================] - 3s 14ms/step - loss: 0.2543 - accuracy: 0.9261 - val_loss: 0.2158 - val_accuracy: 0.9419\n",
            "Epoch 18/10000\n",
            "188/188 [==============================] - 3s 14ms/step - loss: 0.2410 - accuracy: 0.9302 - val_loss: 0.2042 - val_accuracy: 0.9454\n",
            "Epoch 19/10000\n",
            "188/188 [==============================] - 3s 14ms/step - loss: 0.2276 - accuracy: 0.9339 - val_loss: 0.1962 - val_accuracy: 0.9471\n",
            "Epoch 20/10000\n",
            "188/188 [==============================] - 3s 14ms/step - loss: 0.2171 - accuracy: 0.9374 - val_loss: 0.1846 - val_accuracy: 0.9503\n",
            "Epoch 21/10000\n",
            "188/188 [==============================] - 3s 14ms/step - loss: 0.2045 - accuracy: 0.9413 - val_loss: 0.1767 - val_accuracy: 0.9525\n",
            "Epoch 22/10000\n",
            "188/188 [==============================] - 3s 14ms/step - loss: 0.1956 - accuracy: 0.9432 - val_loss: 0.1673 - val_accuracy: 0.9564\n",
            "Epoch 23/10000\n",
            "188/188 [==============================] - 3s 14ms/step - loss: 0.1885 - accuracy: 0.9454 - val_loss: 0.1594 - val_accuracy: 0.9580\n",
            "Epoch 24/10000\n",
            "188/188 [==============================] - 3s 14ms/step - loss: 0.1791 - accuracy: 0.9472 - val_loss: 0.1527 - val_accuracy: 0.9587\n",
            "Epoch 25/10000\n",
            "188/188 [==============================] - 3s 14ms/step - loss: 0.1716 - accuracy: 0.9504 - val_loss: 0.1468 - val_accuracy: 0.9604\n",
            "Epoch 26/10000\n",
            "188/188 [==============================] - 3s 14ms/step - loss: 0.1657 - accuracy: 0.9511 - val_loss: 0.1411 - val_accuracy: 0.9626\n",
            "Epoch 27/10000\n",
            "188/188 [==============================] - 3s 14ms/step - loss: 0.1586 - accuracy: 0.9533 - val_loss: 0.1355 - val_accuracy: 0.9639\n",
            "Epoch 28/10000\n",
            "188/188 [==============================] - 3s 14ms/step - loss: 0.1541 - accuracy: 0.9553 - val_loss: 0.1314 - val_accuracy: 0.9647\n",
            "Epoch 29/10000\n",
            "188/188 [==============================] - 3s 14ms/step - loss: 0.1505 - accuracy: 0.9554 - val_loss: 0.1270 - val_accuracy: 0.9655\n",
            "Epoch 30/10000\n",
            "188/188 [==============================] - 3s 14ms/step - loss: 0.1469 - accuracy: 0.9565 - val_loss: 0.1229 - val_accuracy: 0.9665\n",
            "Epoch 31/10000\n",
            "188/188 [==============================] - 3s 15ms/step - loss: 0.1417 - accuracy: 0.9585 - val_loss: 0.1190 - val_accuracy: 0.9672\n",
            "Epoch 32/10000\n",
            "188/188 [==============================] - 3s 14ms/step - loss: 0.1365 - accuracy: 0.9598 - val_loss: 0.1161 - val_accuracy: 0.9674\n",
            "Epoch 33/10000\n",
            "188/188 [==============================] - 3s 14ms/step - loss: 0.1344 - accuracy: 0.9601 - val_loss: 0.1134 - val_accuracy: 0.9681\n",
            "Epoch 34/10000\n",
            "188/188 [==============================] - 3s 14ms/step - loss: 0.1305 - accuracy: 0.9613 - val_loss: 0.1114 - val_accuracy: 0.9678\n",
            "Epoch 35/10000\n",
            "188/188 [==============================] - 3s 14ms/step - loss: 0.1271 - accuracy: 0.9617 - val_loss: 0.1080 - val_accuracy: 0.9689\n",
            "Epoch 36/10000\n",
            "188/188 [==============================] - 3s 14ms/step - loss: 0.1251 - accuracy: 0.9630 - val_loss: 0.1063 - val_accuracy: 0.9693\n",
            "Epoch 37/10000\n",
            "188/188 [==============================] - 3s 14ms/step - loss: 0.1222 - accuracy: 0.9626 - val_loss: 0.1033 - val_accuracy: 0.9705\n",
            "Epoch 38/10000\n",
            "188/188 [==============================] - 3s 14ms/step - loss: 0.1190 - accuracy: 0.9643 - val_loss: 0.1013 - val_accuracy: 0.9715\n",
            "Epoch 39/10000\n",
            "188/188 [==============================] - 3s 14ms/step - loss: 0.1176 - accuracy: 0.9651 - val_loss: 0.0992 - val_accuracy: 0.9720\n",
            "Epoch 40/10000\n",
            "188/188 [==============================] - 3s 14ms/step - loss: 0.1143 - accuracy: 0.9657 - val_loss: 0.0972 - val_accuracy: 0.9729\n",
            "Epoch 41/10000\n",
            "188/188 [==============================] - 3s 14ms/step - loss: 0.1132 - accuracy: 0.9671 - val_loss: 0.0957 - val_accuracy: 0.9727\n",
            "Epoch 42/10000\n",
            "188/188 [==============================] - 3s 14ms/step - loss: 0.1115 - accuracy: 0.9659 - val_loss: 0.0940 - val_accuracy: 0.9735\n",
            "Epoch 43/10000\n",
            "188/188 [==============================] - 3s 14ms/step - loss: 0.1089 - accuracy: 0.9674 - val_loss: 0.0924 - val_accuracy: 0.9738\n",
            "Epoch 44/10000\n",
            "188/188 [==============================] - 3s 14ms/step - loss: 0.1073 - accuracy: 0.9675 - val_loss: 0.0915 - val_accuracy: 0.9735\n",
            "Epoch 45/10000\n",
            "188/188 [==============================] - 3s 14ms/step - loss: 0.1049 - accuracy: 0.9690 - val_loss: 0.0896 - val_accuracy: 0.9743\n",
            "Epoch 46/10000\n",
            "188/188 [==============================] - 3s 14ms/step - loss: 0.1041 - accuracy: 0.9696 - val_loss: 0.0883 - val_accuracy: 0.9750\n",
            "Epoch 47/10000\n",
            "188/188 [==============================] - 3s 14ms/step - loss: 0.1028 - accuracy: 0.9694 - val_loss: 0.0867 - val_accuracy: 0.9760\n",
            "Epoch 48/10000\n",
            "188/188 [==============================] - 3s 14ms/step - loss: 0.1013 - accuracy: 0.9697 - val_loss: 0.0864 - val_accuracy: 0.9748\n",
            "Epoch 49/10000\n",
            "188/188 [==============================] - 3s 14ms/step - loss: 0.1003 - accuracy: 0.9698 - val_loss: 0.0858 - val_accuracy: 0.9757\n",
            "Epoch 50/10000\n",
            "188/188 [==============================] - 3s 14ms/step - loss: 0.0977 - accuracy: 0.9711 - val_loss: 0.0832 - val_accuracy: 0.9768\n",
            "Epoch 51/10000\n",
            "188/188 [==============================] - 3s 14ms/step - loss: 0.0974 - accuracy: 0.9707 - val_loss: 0.0823 - val_accuracy: 0.9777\n",
            "Epoch 52/10000\n",
            "188/188 [==============================] - 3s 14ms/step - loss: 0.0958 - accuracy: 0.9709 - val_loss: 0.0819 - val_accuracy: 0.9769\n",
            "Epoch 53/10000\n",
            "188/188 [==============================] - 3s 14ms/step - loss: 0.0946 - accuracy: 0.9715 - val_loss: 0.0807 - val_accuracy: 0.9770\n",
            "Epoch 54/10000\n",
            "188/188 [==============================] - 3s 14ms/step - loss: 0.0939 - accuracy: 0.9711 - val_loss: 0.0797 - val_accuracy: 0.9769\n",
            "Epoch 55/10000\n",
            "188/188 [==============================] - 3s 14ms/step - loss: 0.0918 - accuracy: 0.9722 - val_loss: 0.0791 - val_accuracy: 0.9773\n",
            "Epoch 56/10000\n",
            "188/188 [==============================] - 3s 14ms/step - loss: 0.0905 - accuracy: 0.9727 - val_loss: 0.0784 - val_accuracy: 0.9777\n",
            "Epoch 57/10000\n",
            "188/188 [==============================] - 3s 14ms/step - loss: 0.0895 - accuracy: 0.9731 - val_loss: 0.0773 - val_accuracy: 0.9780\n",
            "Epoch 58/10000\n",
            "188/188 [==============================] - 3s 14ms/step - loss: 0.0883 - accuracy: 0.9737 - val_loss: 0.0761 - val_accuracy: 0.9779\n",
            "Epoch 59/10000\n",
            "188/188 [==============================] - 3s 14ms/step - loss: 0.0885 - accuracy: 0.9732 - val_loss: 0.0758 - val_accuracy: 0.9783\n",
            "Epoch 60/10000\n",
            "188/188 [==============================] - 3s 14ms/step - loss: 0.0864 - accuracy: 0.9739 - val_loss: 0.0752 - val_accuracy: 0.9778\n",
            "Epoch 61/10000\n",
            "188/188 [==============================] - 3s 14ms/step - loss: 0.0871 - accuracy: 0.9732 - val_loss: 0.0745 - val_accuracy: 0.9789\n",
            "Epoch 62/10000\n",
            "188/188 [==============================] - 3s 14ms/step - loss: 0.0857 - accuracy: 0.9742 - val_loss: 0.0743 - val_accuracy: 0.9788\n",
            "Epoch 63/10000\n",
            "188/188 [==============================] - 3s 14ms/step - loss: 0.0859 - accuracy: 0.9738 - val_loss: 0.0729 - val_accuracy: 0.9788\n",
            "Epoch 64/10000\n",
            "188/188 [==============================] - 3s 14ms/step - loss: 0.0827 - accuracy: 0.9755 - val_loss: 0.0725 - val_accuracy: 0.9793\n",
            "Epoch 65/10000\n",
            "188/188 [==============================] - 3s 14ms/step - loss: 0.0842 - accuracy: 0.9748 - val_loss: 0.0717 - val_accuracy: 0.9794\n",
            "Epoch 66/10000\n",
            "188/188 [==============================] - 3s 14ms/step - loss: 0.0819 - accuracy: 0.9752 - val_loss: 0.0708 - val_accuracy: 0.9790\n",
            "Epoch 67/10000\n",
            "188/188 [==============================] - 3s 14ms/step - loss: 0.0813 - accuracy: 0.9750 - val_loss: 0.0707 - val_accuracy: 0.9794\n",
            "Epoch 68/10000\n",
            "188/188 [==============================] - 3s 14ms/step - loss: 0.0797 - accuracy: 0.9753 - val_loss: 0.0699 - val_accuracy: 0.9794\n",
            "Epoch 69/10000\n",
            "188/188 [==============================] - 3s 15ms/step - loss: 0.0809 - accuracy: 0.9758 - val_loss: 0.0702 - val_accuracy: 0.9797\n",
            "Epoch 70/10000\n",
            "188/188 [==============================] - 3s 15ms/step - loss: 0.0784 - accuracy: 0.9760 - val_loss: 0.0687 - val_accuracy: 0.9798\n",
            "Epoch 71/10000\n",
            "188/188 [==============================] - 3s 15ms/step - loss: 0.0775 - accuracy: 0.9765 - val_loss: 0.0690 - val_accuracy: 0.9807\n",
            "Epoch 72/10000\n",
            "188/188 [==============================] - 3s 15ms/step - loss: 0.0773 - accuracy: 0.9764 - val_loss: 0.0678 - val_accuracy: 0.9805\n",
            "Epoch 73/10000\n",
            "188/188 [==============================] - 3s 14ms/step - loss: 0.0750 - accuracy: 0.9775 - val_loss: 0.0675 - val_accuracy: 0.9809\n",
            "Epoch 74/10000\n",
            "188/188 [==============================] - 3s 15ms/step - loss: 0.0773 - accuracy: 0.9765 - val_loss: 0.0670 - val_accuracy: 0.9803\n",
            "Epoch 75/10000\n",
            "188/188 [==============================] - 3s 15ms/step - loss: 0.0765 - accuracy: 0.9764 - val_loss: 0.0666 - val_accuracy: 0.9802\n",
            "Epoch 76/10000\n",
            "188/188 [==============================] - 3s 14ms/step - loss: 0.0741 - accuracy: 0.9780 - val_loss: 0.0659 - val_accuracy: 0.9804\n",
            "Epoch 77/10000\n",
            "188/188 [==============================] - 3s 14ms/step - loss: 0.0747 - accuracy: 0.9768 - val_loss: 0.0658 - val_accuracy: 0.9808\n",
            "Epoch 78/10000\n",
            "188/188 [==============================] - 3s 14ms/step - loss: 0.0734 - accuracy: 0.9783 - val_loss: 0.0651 - val_accuracy: 0.9808\n",
            "Epoch 79/10000\n",
            "188/188 [==============================] - 3s 14ms/step - loss: 0.0730 - accuracy: 0.9775 - val_loss: 0.0653 - val_accuracy: 0.9804\n",
            "Epoch 80/10000\n",
            "188/188 [==============================] - 3s 14ms/step - loss: 0.0727 - accuracy: 0.9782 - val_loss: 0.0645 - val_accuracy: 0.9811\n",
            "Epoch 81/10000\n",
            "188/188 [==============================] - 3s 15ms/step - loss: 0.0723 - accuracy: 0.9771 - val_loss: 0.0647 - val_accuracy: 0.9808\n",
            "Epoch 82/10000\n",
            "188/188 [==============================] - 3s 14ms/step - loss: 0.0713 - accuracy: 0.9780 - val_loss: 0.0634 - val_accuracy: 0.9812\n",
            "Epoch 83/10000\n",
            "188/188 [==============================] - 3s 14ms/step - loss: 0.0705 - accuracy: 0.9785 - val_loss: 0.0634 - val_accuracy: 0.9809\n",
            "Epoch 84/10000\n",
            "188/188 [==============================] - 3s 14ms/step - loss: 0.0715 - accuracy: 0.9779 - val_loss: 0.0627 - val_accuracy: 0.9809\n",
            "Epoch 85/10000\n",
            "188/188 [==============================] - 3s 14ms/step - loss: 0.0718 - accuracy: 0.9780 - val_loss: 0.0632 - val_accuracy: 0.9814\n",
            "Epoch 86/10000\n",
            "188/188 [==============================] - 3s 14ms/step - loss: 0.0699 - accuracy: 0.9785 - val_loss: 0.0620 - val_accuracy: 0.9811\n",
            "Epoch 87/10000\n",
            "188/188 [==============================] - 3s 14ms/step - loss: 0.0695 - accuracy: 0.9788 - val_loss: 0.0620 - val_accuracy: 0.9811\n",
            "Epoch 88/10000\n",
            "188/188 [==============================] - 3s 14ms/step - loss: 0.0707 - accuracy: 0.9774 - val_loss: 0.0613 - val_accuracy: 0.9817\n",
            "Epoch 89/10000\n",
            "188/188 [==============================] - 3s 14ms/step - loss: 0.0680 - accuracy: 0.9790 - val_loss: 0.0609 - val_accuracy: 0.9818\n",
            "Epoch 90/10000\n",
            "188/188 [==============================] - 3s 14ms/step - loss: 0.0672 - accuracy: 0.9795 - val_loss: 0.0610 - val_accuracy: 0.9819\n",
            "Epoch 91/10000\n",
            "188/188 [==============================] - 3s 14ms/step - loss: 0.0686 - accuracy: 0.9789 - val_loss: 0.0604 - val_accuracy: 0.9817\n",
            "Epoch 92/10000\n",
            "188/188 [==============================] - 3s 15ms/step - loss: 0.0669 - accuracy: 0.9797 - val_loss: 0.0603 - val_accuracy: 0.9819\n",
            "Epoch 93/10000\n",
            "188/188 [==============================] - 3s 14ms/step - loss: 0.0657 - accuracy: 0.9802 - val_loss: 0.0598 - val_accuracy: 0.9816\n",
            "Epoch 94/10000\n",
            "188/188 [==============================] - 3s 14ms/step - loss: 0.0657 - accuracy: 0.9799 - val_loss: 0.0593 - val_accuracy: 0.9822\n",
            "Epoch 95/10000\n",
            "188/188 [==============================] - 3s 14ms/step - loss: 0.0652 - accuracy: 0.9802 - val_loss: 0.0594 - val_accuracy: 0.9819\n",
            "Epoch 96/10000\n",
            "188/188 [==============================] - 3s 15ms/step - loss: 0.0652 - accuracy: 0.9802 - val_loss: 0.0593 - val_accuracy: 0.9823\n",
            "Epoch 97/10000\n",
            "188/188 [==============================] - 3s 14ms/step - loss: 0.0641 - accuracy: 0.9804 - val_loss: 0.0594 - val_accuracy: 0.9823\n",
            "Epoch 98/10000\n",
            "188/188 [==============================] - 3s 14ms/step - loss: 0.0649 - accuracy: 0.9804 - val_loss: 0.0585 - val_accuracy: 0.9821\n",
            "Epoch 99/10000\n",
            "188/188 [==============================] - 3s 14ms/step - loss: 0.0643 - accuracy: 0.9803 - val_loss: 0.0586 - val_accuracy: 0.9826\n",
            "Epoch 100/10000\n",
            "188/188 [==============================] - 3s 14ms/step - loss: 0.0645 - accuracy: 0.9802 - val_loss: 0.0580 - val_accuracy: 0.9822\n",
            "Epoch 101/10000\n",
            "188/188 [==============================] - 3s 14ms/step - loss: 0.0641 - accuracy: 0.9803 - val_loss: 0.0580 - val_accuracy: 0.9824\n",
            "Epoch 102/10000\n",
            "188/188 [==============================] - 3s 14ms/step - loss: 0.0635 - accuracy: 0.9808 - val_loss: 0.0580 - val_accuracy: 0.9827\n",
            "Epoch 103/10000\n",
            "188/188 [==============================] - 3s 14ms/step - loss: 0.0624 - accuracy: 0.9809 - val_loss: 0.0575 - val_accuracy: 0.9827\n",
            "Epoch 104/10000\n",
            "188/188 [==============================] - 3s 14ms/step - loss: 0.0622 - accuracy: 0.9810 - val_loss: 0.0575 - val_accuracy: 0.9823\n",
            "Epoch 105/10000\n",
            "188/188 [==============================] - 3s 14ms/step - loss: 0.0624 - accuracy: 0.9809 - val_loss: 0.0568 - val_accuracy: 0.9833\n",
            "Epoch 106/10000\n",
            "188/188 [==============================] - 3s 14ms/step - loss: 0.0625 - accuracy: 0.9806 - val_loss: 0.0565 - val_accuracy: 0.9828\n",
            "Epoch 107/10000\n",
            "188/188 [==============================] - 3s 14ms/step - loss: 0.0623 - accuracy: 0.9807 - val_loss: 0.0562 - val_accuracy: 0.9829\n",
            "Epoch 108/10000\n",
            "188/188 [==============================] - 3s 14ms/step - loss: 0.0621 - accuracy: 0.9808 - val_loss: 0.0563 - val_accuracy: 0.9828\n",
            "Epoch 109/10000\n",
            "188/188 [==============================] - 3s 14ms/step - loss: 0.0603 - accuracy: 0.9810 - val_loss: 0.0557 - val_accuracy: 0.9832\n",
            "Epoch 110/10000\n",
            "188/188 [==============================] - 3s 14ms/step - loss: 0.0591 - accuracy: 0.9821 - val_loss: 0.0554 - val_accuracy: 0.9836\n",
            "Epoch 111/10000\n",
            "188/188 [==============================] - 3s 14ms/step - loss: 0.0602 - accuracy: 0.9825 - val_loss: 0.0558 - val_accuracy: 0.9832\n",
            "Epoch 112/10000\n",
            "188/188 [==============================] - 3s 14ms/step - loss: 0.0594 - accuracy: 0.9822 - val_loss: 0.0557 - val_accuracy: 0.9833\n",
            "Epoch 113/10000\n",
            "188/188 [==============================] - 3s 14ms/step - loss: 0.0574 - accuracy: 0.9827 - val_loss: 0.0552 - val_accuracy: 0.9835\n",
            "Epoch 114/10000\n",
            "188/188 [==============================] - 3s 14ms/step - loss: 0.0587 - accuracy: 0.9822 - val_loss: 0.0551 - val_accuracy: 0.9833\n",
            "Epoch 115/10000\n",
            "188/188 [==============================] - 3s 14ms/step - loss: 0.0586 - accuracy: 0.9823 - val_loss: 0.0548 - val_accuracy: 0.9835\n",
            "Epoch 116/10000\n",
            "188/188 [==============================] - 3s 14ms/step - loss: 0.0593 - accuracy: 0.9820 - val_loss: 0.0545 - val_accuracy: 0.9835\n",
            "Epoch 117/10000\n",
            "188/188 [==============================] - 3s 14ms/step - loss: 0.0597 - accuracy: 0.9818 - val_loss: 0.0542 - val_accuracy: 0.9837\n",
            "Epoch 118/10000\n",
            "188/188 [==============================] - 3s 14ms/step - loss: 0.0589 - accuracy: 0.9820 - val_loss: 0.0541 - val_accuracy: 0.9832\n",
            "Epoch 119/10000\n",
            "188/188 [==============================] - 3s 14ms/step - loss: 0.0580 - accuracy: 0.9823 - val_loss: 0.0540 - val_accuracy: 0.9837\n",
            "Epoch 120/10000\n",
            "188/188 [==============================] - 3s 14ms/step - loss: 0.0575 - accuracy: 0.9820 - val_loss: 0.0538 - val_accuracy: 0.9835\n",
            "Epoch 121/10000\n",
            "188/188 [==============================] - 3s 14ms/step - loss: 0.0579 - accuracy: 0.9819 - val_loss: 0.0538 - val_accuracy: 0.9838\n",
            "Epoch 122/10000\n",
            "188/188 [==============================] - 3s 14ms/step - loss: 0.0567 - accuracy: 0.9825 - val_loss: 0.0534 - val_accuracy: 0.9837\n",
            "Epoch 123/10000\n",
            "188/188 [==============================] - 3s 14ms/step - loss: 0.0552 - accuracy: 0.9829 - val_loss: 0.0538 - val_accuracy: 0.9837\n",
            "Epoch 124/10000\n",
            "188/188 [==============================] - 3s 14ms/step - loss: 0.0566 - accuracy: 0.9829 - val_loss: 0.0532 - val_accuracy: 0.9842\n",
            "Epoch 125/10000\n",
            "188/188 [==============================] - 3s 14ms/step - loss: 0.0552 - accuracy: 0.9827 - val_loss: 0.0531 - val_accuracy: 0.9837\n",
            "Epoch 126/10000\n",
            "188/188 [==============================] - 3s 14ms/step - loss: 0.0560 - accuracy: 0.9825 - val_loss: 0.0537 - val_accuracy: 0.9837\n",
            "Epoch 127/10000\n",
            "188/188 [==============================] - 3s 14ms/step - loss: 0.0558 - accuracy: 0.9833 - val_loss: 0.0526 - val_accuracy: 0.9842\n",
            "Epoch 128/10000\n",
            "188/188 [==============================] - 3s 14ms/step - loss: 0.0559 - accuracy: 0.9829 - val_loss: 0.0531 - val_accuracy: 0.9840\n",
            "Epoch 129/10000\n",
            "188/188 [==============================] - 3s 14ms/step - loss: 0.0563 - accuracy: 0.9833 - val_loss: 0.0523 - val_accuracy: 0.9842\n",
            "Epoch 130/10000\n",
            "188/188 [==============================] - 3s 14ms/step - loss: 0.0549 - accuracy: 0.9835 - val_loss: 0.0518 - val_accuracy: 0.9847\n",
            "Epoch 131/10000\n",
            "188/188 [==============================] - 3s 14ms/step - loss: 0.0541 - accuracy: 0.9831 - val_loss: 0.0521 - val_accuracy: 0.9843\n",
            "Epoch 132/10000\n",
            "188/188 [==============================] - 3s 14ms/step - loss: 0.0548 - accuracy: 0.9833 - val_loss: 0.0522 - val_accuracy: 0.9843\n",
            "Epoch 133/10000\n",
            "188/188 [==============================] - 3s 14ms/step - loss: 0.0531 - accuracy: 0.9840 - val_loss: 0.0521 - val_accuracy: 0.9839\n",
            "Epoch 134/10000\n",
            "188/188 [==============================] - 3s 14ms/step - loss: 0.0531 - accuracy: 0.9836 - val_loss: 0.0514 - val_accuracy: 0.9845\n",
            "Epoch 135/10000\n",
            "188/188 [==============================] - 3s 14ms/step - loss: 0.0530 - accuracy: 0.9834 - val_loss: 0.0517 - val_accuracy: 0.9843\n",
            "Epoch 136/10000\n",
            "188/188 [==============================] - 3s 14ms/step - loss: 0.0540 - accuracy: 0.9830 - val_loss: 0.0517 - val_accuracy: 0.9844\n",
            "Epoch 137/10000\n",
            "188/188 [==============================] - 3s 14ms/step - loss: 0.0538 - accuracy: 0.9828 - val_loss: 0.0515 - val_accuracy: 0.9847\n",
            "Epoch 138/10000\n",
            "188/188 [==============================] - 3s 14ms/step - loss: 0.0551 - accuracy: 0.9834 - val_loss: 0.0512 - val_accuracy: 0.9845\n",
            "Epoch 139/10000\n",
            "188/188 [==============================] - 3s 14ms/step - loss: 0.0538 - accuracy: 0.9833 - val_loss: 0.0514 - val_accuracy: 0.9843\n",
            "Epoch 140/10000\n",
            "188/188 [==============================] - 3s 14ms/step - loss: 0.0526 - accuracy: 0.9837 - val_loss: 0.0506 - val_accuracy: 0.9851\n",
            "Epoch 141/10000\n",
            "188/188 [==============================] - 3s 14ms/step - loss: 0.0529 - accuracy: 0.9838 - val_loss: 0.0505 - val_accuracy: 0.9851\n",
            "Epoch 142/10000\n",
            "188/188 [==============================] - 3s 14ms/step - loss: 0.0518 - accuracy: 0.9840 - val_loss: 0.0507 - val_accuracy: 0.9843\n",
            "Epoch 143/10000\n",
            "188/188 [==============================] - 3s 14ms/step - loss: 0.0515 - accuracy: 0.9845 - val_loss: 0.0503 - val_accuracy: 0.9845\n",
            "Epoch 144/10000\n",
            "188/188 [==============================] - 3s 14ms/step - loss: 0.0522 - accuracy: 0.9834 - val_loss: 0.0502 - val_accuracy: 0.9852\n",
            "Epoch 145/10000\n",
            "188/188 [==============================] - 3s 14ms/step - loss: 0.0529 - accuracy: 0.9843 - val_loss: 0.0506 - val_accuracy: 0.9852\n",
            "Epoch 146/10000\n",
            "188/188 [==============================] - 3s 14ms/step - loss: 0.0523 - accuracy: 0.9835 - val_loss: 0.0503 - val_accuracy: 0.9848\n",
            "Epoch 147/10000\n",
            "188/188 [==============================] - 3s 14ms/step - loss: 0.0500 - accuracy: 0.9845 - val_loss: 0.0505 - val_accuracy: 0.9847\n",
            "Epoch 148/10000\n",
            "188/188 [==============================] - 3s 14ms/step - loss: 0.0512 - accuracy: 0.9847 - val_loss: 0.0499 - val_accuracy: 0.9848\n",
            "Epoch 149/10000\n",
            "188/188 [==============================] - 3s 14ms/step - loss: 0.0498 - accuracy: 0.9850 - val_loss: 0.0501 - val_accuracy: 0.9851\n",
            "Epoch 150/10000\n",
            "188/188 [==============================] - 3s 14ms/step - loss: 0.0508 - accuracy: 0.9843 - val_loss: 0.0505 - val_accuracy: 0.9848\n",
            "Epoch 151/10000\n",
            "188/188 [==============================] - 3s 14ms/step - loss: 0.0505 - accuracy: 0.9838 - val_loss: 0.0501 - val_accuracy: 0.9852\n",
            "Epoch 152/10000\n",
            "188/188 [==============================] - 3s 14ms/step - loss: 0.0502 - accuracy: 0.9843 - val_loss: 0.0502 - val_accuracy: 0.9856\n",
            "Epoch 153/10000\n",
            "188/188 [==============================] - 3s 15ms/step - loss: 0.0502 - accuracy: 0.9844 - val_loss: 0.0494 - val_accuracy: 0.9852\n",
            "Epoch 154/10000\n",
            "188/188 [==============================] - 3s 14ms/step - loss: 0.0501 - accuracy: 0.9846 - val_loss: 0.0495 - val_accuracy: 0.9852\n",
            "Epoch 155/10000\n",
            "188/188 [==============================] - 3s 14ms/step - loss: 0.0520 - accuracy: 0.9839 - val_loss: 0.0491 - val_accuracy: 0.9855\n",
            "Epoch 156/10000\n",
            "188/188 [==============================] - 3s 14ms/step - loss: 0.0498 - accuracy: 0.9848 - val_loss: 0.0489 - val_accuracy: 0.9847\n",
            "Epoch 157/10000\n",
            "188/188 [==============================] - 3s 14ms/step - loss: 0.0497 - accuracy: 0.9844 - val_loss: 0.0494 - val_accuracy: 0.9852\n",
            "Epoch 158/10000\n",
            "188/188 [==============================] - 3s 14ms/step - loss: 0.0491 - accuracy: 0.9847 - val_loss: 0.0487 - val_accuracy: 0.9849\n",
            "Epoch 159/10000\n",
            "188/188 [==============================] - 3s 14ms/step - loss: 0.0497 - accuracy: 0.9842 - val_loss: 0.0488 - val_accuracy: 0.9852\n",
            "Epoch 160/10000\n",
            "188/188 [==============================] - 3s 14ms/step - loss: 0.0476 - accuracy: 0.9849 - val_loss: 0.0487 - val_accuracy: 0.9853\n",
            "Epoch 161/10000\n",
            "188/188 [==============================] - 3s 14ms/step - loss: 0.0478 - accuracy: 0.9854 - val_loss: 0.0488 - val_accuracy: 0.9849\n",
            "Epoch 162/10000\n",
            "188/188 [==============================] - 3s 14ms/step - loss: 0.0485 - accuracy: 0.9849 - val_loss: 0.0485 - val_accuracy: 0.9852\n"
          ],
          "name": "stdout"
        }
      ]
    },
    {
      "cell_type": "code",
      "metadata": {
        "id": "azHtcTJLXTVL",
        "colab_type": "code",
        "outputId": "325fad31-0432-4593-d1b5-6c203a24b465",
        "colab": {
          "base_uri": "https://localhost:8080/",
          "height": 444
        }
      },
      "source": [
        "fig, (loss_ax, acc_ax) = plt.subplots(1, 2, figsize=(20,7))\n",
        "\n",
        "loss_ax.set_title('Loss')\n",
        "loss_ax.plot(mnist_CNN_train.history['loss'], '-r', label='Train')\n",
        "loss_ax.plot(mnist_CNN_train.history['val_loss'], '-g', label='Validation')\n",
        "\n",
        "acc_ax.set_title('Accuracy')\n",
        "acc_ax.plot(mnist_CNN_train.history['accuracy'], '-r', label='Train')\n",
        "acc_ax.plot(mnist_CNN_train.history['val_accuracy'], '-g', label='Validation')\n",
        "\n",
        "plt.legend(loc=4)\n",
        "plt.show() "
      ],
      "execution_count": 19,
      "outputs": [
        {
          "output_type": "display_data",
          "data": {
            "image/png": "[encoded data removed]",
            "text/plain": [
              "<Figure size 1440x504 with 2 Axes>"
            ]
          },
          "metadata": {
            "tags": [],
            "needs_background": "light"
          }
        }
      ]
    },
    {
      "cell_type": "code",
      "metadata": {
        "id": "yHffH8IAUOw5",
        "colab_type": "code",
        "colab": {
          "base_uri": "https://localhost:8080/",
          "height": 52
        },
        "outputId": "a92e1414-5a17-4f2e-f0fe-6f15cd903276"
      },
      "source": [
        "CNN.load_weights('mnist_conv_best.h5')\n",
        "loss, acc = CNN.evaluate(mnist_test_x, mnist_test_y)\n",
        "print('Accuracy: {}'.format(acc))"
      ],
      "execution_count": 20,
      "outputs": [
        {
          "output_type": "stream",
          "text": [
            "313/313 [==============================] - 1s 2ms/step - loss: 0.0415 - accuracy: 0.9863\n",
            "Accuracy: 0.986299991607666\n"
          ],
          "name": "stdout"
        }
      ]
    }
  ]
}